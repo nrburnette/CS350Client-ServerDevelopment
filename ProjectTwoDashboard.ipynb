# Setup the Jupyter version of Dash
from jupyter_dash import JupyterDash

#add datetime NICKB
from datetime import datetime

# Configure the necessary Python module imports for dashboard components
import dash_leaflet as dl
from dash import dcc
from dash import html
import plotly.express as px
from dash import dash_table
from dash.dependencies import Input, Output, State
import base64

# Configure OS routines
import os

# Configure the plotting routines
import numpy as np
import pandas as pd
import matplotlib.pyplot as plt


#### COMPLETED NICKB #####
# change animal_shelter and AnimalShelter to match your CRUD Python module file name and class name
from AnimalShelterClass import AnimalShelter

###########################
# Data Manipulation / Model
###########################
# COMPLETED NICKB update with your username and password and CRUD Python module name

username = "aacuser"
password = "password"

# Connect to database via CRUD Module
db = AnimalShelter(username, password)


# class read method must support return of list object and accept projection json input
# sending the read method an empty document requests all documents be returned
df = pd.DataFrame.from_records(db.read({}))

# MongoDB v5+ is going to return the '_id' column and that is going to have an 
# invlaid object type of 'ObjectID' - which will cause the data_table to crash - so we remove
# it in the dataframe here. The df.drop command allows us to drop the column. If we do not set
# inplace=True - it will reeturn a new dataframe that does not contain the dropped column(s)
df.drop(columns=['_id'],inplace=True)

## Debug
# print(len(df.to_dict(orient='records')))
# print(df.columns)

# Generate a date-time string for a unique identifier NICKB
current_datetime = datetime.now().strftime('%Y-%m-%d %H:%M:%S')

#########################
# Dashboard Layout / View
#########################
app = JupyterDash(__name__)

#COMPLETED NICKB Add in Grazioso Salvare’s logo
image_filename = 'Grazioso Salvare Logo.png' # replace with your own image
encoded_image = base64.b64encode(open(image_filename, 'rb').read())

#COMPLETED NICKB Place the HTML image tag in the line below into the app.layout code according to your design
#COMPLETED NICKB Also remember to include a unique identifier such as your name or date
#html.Img(src='data:image/png;base64,{}'.format(encoded_image.decode()))

app.layout = html.Div([
    html.Div(id='hidden-div', style={'display': 'none'}),
    html.Center(html.B(html.H1('SNHU CS-340 Dashboard by Nick Burnette'))),
    html.Hr(),
    #add image
    html.Center(html.Img(
        src='data:image/png;base64,{}'.format(encoded_image.decode()),
        style={'width': '300px', 'height': 'auto'})),  # Adjust width, maintain aspect ratio)),
    #add unique identifier
    html.Hr(),
    html.Div(f'Today\'s Date: {current_datetime}', style={'textAlign': 'center', 'marginTop': '10px'}),    
    # Add button shapes
    html.Div(
        className='buttonRow',
        style={'display': 'flex'},
        children=[
            html.Button(id='submit-button-one', n_clicks=0, children='Cats'),
            html.Button(id='submit-button-two', n_clicks=0, children='Dogs')
        ]
    ),
    #adding filter-type to resolve map errors NICKB
    dcc.Dropdown(id='filter-type', options=[
        {'label': 'Option 1', 'value': 'value1'},
        {'label': 'Option 2', 'value': 'value2'},
    ],
                placeholder="Select a filter",),
    
    dash_table.DataTable(
        id='datatable-id',
        columns=[
            {"name": i, "id": i, "deletable": False, "selectable": True} for i in df.columns
        ],
        data=df.to_dict('records'),
        # COMPLETED NICKB: Set up the features for interactive data table to make it user-friendly for your client
        editable=False,
        filter_action="native",
        sort_action="native",
        sort_mode="multi",
        column_selectable="multi",  # Originally False, added for users to show or hide columns
        row_selectable="single",  # Originally False, added for users to select rows
        row_deletable=True,  # Originally False
        selected_columns=[],
        selected_rows=[],
        page_action="native",
        page_current=0,
        page_size=10,
    ),
    html.Br(),
    html.Hr(),
#This sets up the dashboard so that your chart and your geolocation chart are side-by-side
    html.Div(className='row',
         style={'display' : 'flex'},
             children=[
        html.Div(
            id='graph-id',
            className='col s12 m6',

            ),
        html.Div(
            id='map-id',
            className='col s12 m6',
            )
        ])
])

#############################################
# Interaction Between Components / Controller
#############################################



    
@app.callback(Output('datatable-id','data'),
              [Input('filter-type', 'value')])
def update_dashboard(filter_type):
    #COMPLETED NICKB
    # Query MongoDB based on the selected filter type
    if filter_type:
        query = {'type': filter_type}  # Example filter
    else:
        query = {}  # No filter, fetch all documents
    
    #define the collection
    collection = db
    # Fetch data from MongoDB
    results = list(collection.read(query, {'_id': 0}))  # Exclude the _id field from the result NICKB

    # Ensure the result can be displayed in the Dash DataTable
    if results:
        columns = [{"name": key, "id": key, "deletable": False, "selectable": True} for key in results[0].keys()]
    else:
        columns = []

    # Convert the results into a format suitable for the Dash DataTable
    data = results

    # Return data to be displayed in the Dash DataTable
    return data

@app.callback(
    Output('graph-id', "children"),
    [Input('datatable-id', "derived_virtual_data")]
)
def update_graphs(viewData):
    #COMPLETED NICKB
    if viewData is None:
        return []  # Return empty if no data is available

    # Convert the derived virtual data (list of dictionaries) to a DataFrame
    df = pd.DataFrame(viewData)

    # Check DataFrame not empty and has the required column
    if df.empty or 'breed' not in df.columns:
        return []  # Return empty if there's no data to plot

    # Create the Plotly pie chart
    fig = px.pie(
        df,
        names='breed',
        title='Preferred Animals',
        hole=0.3  # makes a donut chart
    )

    # Return graph to be rendered in the app
    return [
        dcc.Graph(
            figure=fig
        )
    ]
#This callback will highlight a cell on the data table when the user selects it
@app.callback(
    Output('datatable-id', 'style_data_conditional'),
    [Input('datatable-id', 'selected_columns')]
)
def update_styles(selected_columns):
    return [{
        'if': { 'column_id': i },
        'background_color': '#D2F3FF'
    } for i in selected_columns]


# This callback will update the geo-location chart for the selected data entry
# derived_virtual_data will be the set of data available from the datatable in the form of 
# a dictionary.
# derived_virtual_selected_rows will be the selected row(s) in the table in the form of
# a list. For this application, we are only permitting single row selection so there is only
# one value in the list.
# The iloc method allows for a row, column notation to pull data from the datatable
@app.callback(
    Output('map-id', "children"),
    [Input('datatable-id', "derived_virtual_data"),
     Input('datatable-id', "derived_virtual_selected_rows")])
def update_map(viewData, index):  
    if viewData is None or len(viewData) == 0: #changing for map debugging NICKB
        return "No data to display on the map."
    
    if index is None or len(index) == 0:  #changing for map debugging NICKB
        return "No row selected to display on the map."
    
    dff = pd.DataFrame.from_dict(viewData)
    # Because we only allow single row selection, the list can be converted to a row index here
    if index is None:
        row = 0
    else: 
        row = index[0]
        
    # Austin TX is at [30.75,-97.48]
    return [
        dl.Map(style={'width': '1000px', 'height': '500px'}, center=[30.75,-97.48], zoom=10, children=[
            dl.TileLayer(id="base-layer-id"),
            # Marker with tool tip and popup
            # Column 13 and 14 define the grid-coordinates for the map
            # Column 4 defines the breed for the animal
            # Column 9 defines the name of the animal
            dl.Marker(position=[dff.iloc[row,13],dff.iloc[row,14]], children=[
                dl.Tooltip(dff.iloc[row,4]),
                dl.Popup([
                    html.H1("Animal Name"),
                    html.P(dff.iloc[row,9])
                ])
            ])
        ])
    ]



app.run_server(debug=True)
